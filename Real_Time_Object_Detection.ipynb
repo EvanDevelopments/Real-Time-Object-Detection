{
  "nbformat": 4,
  "nbformat_minor": 0,
  "metadata": {
    "colab": {
      "provenance": [],
      "gpuType": "T4",
      "authorship_tag": "ABX9TyOrtziTZgBM1fAU4aIVbRr8",
      "include_colab_link": true
    },
    "kernelspec": {
      "name": "python3",
      "display_name": "Python 3"
    },
    "language_info": {
      "name": "python"
    },
    "accelerator": "GPU"
  },
  "cells": [
    {
      "cell_type": "markdown",
      "metadata": {
        "id": "view-in-github",
        "colab_type": "text"
      },
      "source": [
        "<a href=\"https://colab.research.google.com/github/EvanDevelopments/Real-Time-Object-Detection/blob/main/Real_Time_Object_Detection.ipynb\" target=\"_parent\"><img src=\"https://colab.research.google.com/assets/colab-badge.svg\" alt=\"Open In Colab\"/></a>"
      ]
    },
    {
      "cell_type": "markdown",
      "source": [
        "# **Installing Libraries**"
      ],
      "metadata": {
        "id": "otVBUIMpQz5y"
      }
    },
    {
      "cell_type": "code",
      "source": [
        "import torch\n",
        "from matplotlib import pyplot as plt\n",
        "import numpy as np\n",
        "import cv2"
      ],
      "metadata": {
        "id": "39tb9HwYQ4ci"
      },
      "execution_count": null,
      "outputs": []
    },
    {
      "cell_type": "markdown",
      "source": [
        "## **Initialising The Model**"
      ],
      "metadata": {
        "id": "WsP3X9neQ61J"
      }
    },
    {
      "cell_type": "code",
      "source": [
        "model = torch.hub.load('ultralytics/yolov5', 'yolov5s')\n",
        "\n",
        "video=\"D:\\School\\A Level\\ComputerScience\\Real Time Object Detection\\Motorway CCTV - 4 Split - 10mins - 1280 x 720.mp4\""
      ],
      "metadata": {
        "id": "2-lji07tRAoV"
      },
      "execution_count": null,
      "outputs": []
    },
    {
      "cell_type": "markdown",
      "source": [
        "## **Real Time Object Detection**"
      ],
      "metadata": {
        "id": "Eq4GqHZpRItM"
      }
    },
    {
      "cell_type": "code",
      "source": [
        "cap = cv2.VideoCapture(\"D:\\School\\A Level\\ComputerScience\\Real Time Object Detection\\Motorway CCTV - 4 Split - 10mins - 1280 x 720.mp4\")\n",
        "while cap.isOpened():\n",
        "    ret, frame = cap.read()\n",
        "\n",
        "    # Make detections\n",
        "    results = model(frame)\n",
        "\n",
        "    cv2.imshow('YOLO', np.squeeze(results.render()))\n",
        "\n",
        "    if cv2.waitKey(10) & 0xFF == ord('q'):\n",
        "        break\n",
        "cap.release()\n",
        "cv2.destroyAllWindows()"
      ],
      "metadata": {
        "id": "OZ37wLCyRQ8e"
      },
      "execution_count": null,
      "outputs": []
    }
  ]
}